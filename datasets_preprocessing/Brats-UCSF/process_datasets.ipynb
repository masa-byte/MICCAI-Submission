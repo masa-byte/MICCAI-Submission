{
 "cells": [
  {
   "cell_type": "markdown",
   "metadata": {},
   "source": [
    "This program assumes UCSF dataset is downloaded as \"UCSF_dataset\" and BraTS dataset is downloaded as \"BraTS_dataset\". For both datasets, it gets T1, T2, FLAIR and tumor segmentation data for each patient, converts nifti formatted files to png images, binarizes segmentation images and stores outputs in new directories: \"UCSF\" for UCSF dataset, and \"BraTS\" for BraTS dataset."
   ]
  },
  {
   "cell_type": "code",
   "execution_count": null,
   "metadata": {},
   "outputs": [],
   "source": [
    "import os\n",
    "import nibabel as nib\n",
    "import numpy as np\n",
    "import cv2"
   ]
  },
  {
   "cell_type": "markdown",
   "metadata": {},
   "source": [
    "# Process UCSF"
   ]
  },
  {
   "cell_type": "code",
   "execution_count": null,
   "metadata": {},
   "outputs": [],
   "source": [
    "# Paths for the dataset and output\n",
    "dataset_path = \"UCSF_dataset\"\n",
    "output_base_path = \"UCSF\"  # New output directory"
   ]
  },
  {
   "cell_type": "code",
   "execution_count": null,
   "metadata": {},
   "outputs": [],
   "source": [
    "def get_folders(dataset_path):\n",
    "    \"\"\"\n",
    "    Retrieve and sort folder names from the dataset directory.\n",
    "    \"\"\"\n",
    "    folders = [folder for folder in os.listdir(dataset_path) if os.path.isdir(os.path.join(dataset_path, folder))]\n",
    "    folders.sort() \n",
    "    return folders"
   ]
  },
  {
   "cell_type": "code",
   "execution_count": 3,
   "metadata": {},
   "outputs": [],
   "source": [
    "def find_files_ucsf(folder_path):\n",
    "    \"\"\"\n",
    "    Locate relevant files in a UCSF folder and rename them for consistency.\n",
    "    \"\"\"\n",
    "    files = {key: None for key in [\"tumor_segmentation\", \"t1\", \"t2\", \"flair\"]}\n",
    "    for file in os.listdir(folder_path):\n",
    "        if \"tumor_segmentation\" in file and file.endswith(\".nii.gz\"):\n",
    "            files[\"tumor_segmentation\"] = os.path.join(folder_path, file)\n",
    "        elif \"T1.nii\" in file and file.endswith(\".nii.gz\"):\n",
    "            files[\"t1\"] = os.path.join(folder_path, file)\n",
    "        elif \"T2.nii\" in file and file.endswith(\".nii.gz\"):\n",
    "            files[\"t2\"] = os.path.join(folder_path, file)\n",
    "        elif \"FLAIR.nii\" in file and file.endswith(\".nii.gz\"):\n",
    "            files[\"flair\"] = os.path.join(folder_path, file)\n",
    "    return files"
   ]
  },
  {
   "cell_type": "code",
   "execution_count": 4,
   "metadata": {},
   "outputs": [],
   "source": [
    "def process_files_ucsf(folder_path, output_patient_folder, files):\n",
    "    \"\"\"\n",
    "    Process and save slices for each file type (UCSF dataset).\n",
    "    \"\"\"\n",
    "    for file_type, file_path in files.items():\n",
    "        if file_path:\n",
    "            print(f\"Processing {file_type} file: {file_path}\")\n",
    "            \n",
    "            # Load the NIfTI file using nibabel\n",
    "            nii_file = nib.load(file_path)\n",
    "            data = nii_file.get_fdata()\n",
    "            \n",
    "            # Map the file types to folder names\n",
    "            folder_name_map = {\n",
    "                \"tumor_segmentation\": \"Segmentation\",\n",
    "                \"t1\": \"T1\",\n",
    "                \"t2\": \"T2\",\n",
    "                \"flair\": \"Flair\"\n",
    "            }\n",
    "            output_folder = os.path.join(output_patient_folder, folder_name_map[file_type])\n",
    "            os.makedirs(output_folder, exist_ok=True)\n",
    "            \n",
    "            # Process slices\n",
    "            for slice_idx in range(data.shape[2]):  # Iterate through all slices\n",
    "                slice_data = data[:, :, slice_idx]\n",
    "                \n",
    "                if file_type == \"tumor_segmentation\":\n",
    "                    # Binarize tumor segmentation slices\n",
    "                    processed_slice = (slice_data > 0).astype(np.uint8) * 255\n",
    "                else:\n",
    "                    # Normalize other modalities (T1, T2, FLAIR) to 0-255\n",
    "                    processed_slice = cv2.normalize(slice_data, None, 0, 255, cv2.NORM_MINMAX).astype(np.uint8)\n",
    "                \n",
    "                output_file = os.path.join(output_folder, f\"{file_type}_slice_{slice_idx + 1}.png\")\n",
    "                cv2.imwrite(output_file, processed_slice)\n",
    "            \n",
    "            print(f\"Saved slices to {output_folder}\")\n",
    "        else:\n",
    "            print(f\"{file_type} file not found in folder: {folder_path}\")"
   ]
  },
  {
   "cell_type": "code",
   "execution_count": null,
   "metadata": {},
   "outputs": [],
   "source": [
    "for i, folder in enumerate(os.listdir(dataset_path), start=1):\n",
    "    folder_path = os.path.join(dataset_path, folder)\n",
    "    output_patient_folder = os.path.join(output_base_path, f\"{folder}_patient_{i}\")\n",
    "    os.makedirs(output_patient_folder, exist_ok=True)\n",
    "    \n",
    "    # Find relevant files\n",
    "    files = find_files_ucsf(folder_path)\n",
    "    process_files_ucsf(folder_path, output_patient_folder, files)"
   ]
  },
  {
   "cell_type": "markdown",
   "metadata": {},
   "source": [
    "# Process BraTS"
   ]
  },
  {
   "cell_type": "code",
   "execution_count": 5,
   "metadata": {},
   "outputs": [],
   "source": [
    "dataset_path = \"BraTS_dataset\"\n",
    "output_base_path = \"BraTS\" "
   ]
  },
  {
   "cell_type": "code",
   "execution_count": null,
   "metadata": {},
   "outputs": [],
   "source": [
    "def find_files_brats(folder_path):\n",
    "    \"\"\"\n",
    "    Locate relevant files in a folder and rename them for consistency.\n",
    "    \"\"\"\n",
    "    files = {key: None for key in [\"tumor_segmentation\", \"t1\", \"t2\", \"flair\"]}\n",
    "    for file in os.listdir(folder_path):\n",
    "        if \"-seg.nii.gz\" in file:\n",
    "            files[\"tumor_segmentation\"] = os.path.join(folder_path, file)\n",
    "        elif \"-t1c.nii.gz\" in file:\n",
    "            files[\"t1\"] = os.path.join(folder_path, file)\n",
    "        elif \"-t2w.nii.gz\" in file:\n",
    "            files[\"t2\"] = os.path.join(folder_path, file)\n",
    "        elif \"-t2f.nii.gz\" in file:\n",
    "            files[\"flair\"] = os.path.join(folder_path, file)\n",
    "    return files"
   ]
  },
  {
   "cell_type": "code",
   "execution_count": null,
   "metadata": {},
   "outputs": [],
   "source": [
    "def process_files_brats(folder_path, output_patient_folder, files):\n",
    "    \"\"\"\n",
    "    Process and save slices for each file type.\n",
    "    \"\"\"\n",
    "    for file_type, file_path in files.items():\n",
    "        if file_path:\n",
    "            print(f\"Processing {file_type} file: {file_path}\")\n",
    "            \n",
    "            # Load the NIfTI file using nibabel\n",
    "            nii_file = nib.load(file_path)\n",
    "            data = nii_file.get_fdata()\n",
    "            \n",
    "            # Map the file types to folder names\n",
    "            folder_name_map = {\n",
    "                \"tumor_segmentation\": \"Segmentation\",\n",
    "                \"t1\": \"T1\",\n",
    "                \"t2\": \"T2\",\n",
    "                \"flair\": \"Flair\"\n",
    "            }\n",
    "            output_folder = os.path.join(output_patient_folder, folder_name_map[file_type])\n",
    "            os.makedirs(output_folder, exist_ok=True)\n",
    "            \n",
    "            # Process slices\n",
    "            for slice_idx in range(data.shape[2]):  # Iterate through all slices\n",
    "                slice_data = data[:, :, slice_idx]\n",
    "                \n",
    "                if file_type == \"tumor_segmentation\":\n",
    "                    # Binarize tumor segmentation slices\n",
    "                    processed_slice = (slice_data > 0).astype(np.uint8) * 255\n",
    "                else:\n",
    "                    # Normalize other modalities (T1, T2, FLAIR) to 0-255\n",
    "                    processed_slice = cv2.normalize(slice_data, None, 0, 255, cv2.NORM_MINMAX).astype(np.uint8)\n",
    "                \n",
    "                output_file = os.path.join(output_folder, f\"{file_type}_slice_{slice_idx + 1}.png\")\n",
    "                cv2.imwrite(output_file, processed_slice)\n",
    "            \n",
    "            print(f\"Saved slices to {output_folder}\")\n",
    "        else:\n",
    "            print(f\"{file_type} file not found in folder: {folder_path}\")"
   ]
  },
  {
   "cell_type": "code",
   "execution_count": null,
   "metadata": {},
   "outputs": [],
   "source": [
    "for i, folder in enumerate(os.listdir(dataset_path), start=1):\n",
    "    folder_path = os.path.join(dataset_path, folder)\n",
    "    output_patient_folder = os.path.join(output_base_path, f\"{folder}_patient_{i}\")\n",
    "    os.makedirs(output_patient_folder, exist_ok=True)\n",
    "    \n",
    "    # Find relevant files\n",
    "    files = find_files_brats(folder_path)\n",
    "    process_files_brats(folder_path, output_patient_folder, files)"
   ]
  },
  {
   "cell_type": "code",
   "execution_count": 1,
   "metadata": {},
   "outputs": [],
   "source": [
    "def rename_segmentation_files(base_folder):\n",
    "    \"\"\"\n",
    "    Traverse the folder structure starting at `base_folder`, locate each 'Segmentation' subfolder,\n",
    "    and rename files from `tumor_segmentation_slice_1` to `tumor_slice_1`.\n",
    "    \n",
    "    :param base_folder: Path to the base directory containing the folders to traverse.\n",
    "    \"\"\"\n",
    "    for root, dirs, files in os.walk(base_folder):\n",
    "        # Check if the current folder is a 'Segmentation' folder\n",
    "        if os.path.basename(root) == 'Segmentation':\n",
    "            for file_name in files:\n",
    "                if file_name.startswith(\"tumor_segmentation_slice_\"):\n",
    "                    # Construct full file paths\n",
    "                    old_file_path = os.path.join(root, file_name)\n",
    "                    # Rename to `tumor_slice_...`\n",
    "                    new_file_name = file_name.replace(\"tumor_segmentation_\", \"tumor_\")\n",
    "                    new_file_path = os.path.join(root, new_file_name)\n",
    "                    \n",
    "                    # Rename the file\n",
    "                    os.rename(old_file_path, new_file_path)\n",
    "                    print(f\"Renamed: {old_file_path} -> {new_file_path}\")"
   ]
  },
  {
   "cell_type": "code",
   "execution_count": null,
   "metadata": {},
   "outputs": [],
   "source": [
    "rename_segmentation_files('UCSF')\n",
    "rename_segmentation_files('BraTS')"
   ]
  }
 ],
 "metadata": {
  "kernelspec": {
   "display_name": "Python 3",
   "language": "python",
   "name": "python3"
  },
  "language_info": {
   "codemirror_mode": {
    "name": "ipython",
    "version": 3
   },
   "file_extension": ".py",
   "mimetype": "text/x-python",
   "name": "python",
   "nbconvert_exporter": "python",
   "pygments_lexer": "ipython3",
   "version": "3.12.5"
  }
 },
 "nbformat": 4,
 "nbformat_minor": 2
}
